{
 "cells": [
  {
   "cell_type": "markdown",
   "metadata": {},
   "source": [
    "## 『本次練習內容』\n",
    "#### 運用這幾天所學觀念搭建一個CNN分類器"
   ]
  },
  {
   "cell_type": "markdown",
   "metadata": {},
   "source": [
    "## 『本次練習目的』\n",
    "  #### 熟悉CNN分類器搭建步驟與原理\n",
    "  #### 學員們可以嘗試不同搭法，如使用不同的Maxpooling層，用GlobalAveragePooling取代Flatten等等"
   ]
  },
  {
   "cell_type": "code",
   "execution_count": 9,
   "metadata": {},
   "outputs": [],
   "source": [
    "from keras.models import Sequential\n",
    "from keras.layers import Convolution2D\n",
    "from keras.layers import MaxPooling2D\n",
    "from keras.layers import Flatten\n",
    "from keras.layers import Dense\n",
    "from keras.layers import Dropout\n",
    "from keras.layers import BatchNormalization\n",
    "from keras.datasets import cifar10\n",
    "import numpy as np\n",
    "import tensorflow as tf\n",
    "from sklearn.preprocessing import OneHotEncoder\n"
   ]
  },
  {
   "cell_type": "code",
   "execution_count": 10,
   "metadata": {},
   "outputs": [
    {
     "name": "stdout",
     "output_type": "stream",
     "text": [
      "(50000, 32, 32, 3)\n"
     ]
    }
   ],
   "source": [
    "(x_train, y_train), (x_test, y_test) = cifar10.load_data()\n",
    "\n",
    "print(x_train.shape) #(50000, 32, 32, 3)\n",
    "\n",
    "## Normalize Data\n",
    "def normalize(X_train,X_test):\n",
    "        mean = np.mean(X_train,axis=(0,1,2,3))\n",
    "        std = np.std(X_train, axis=(0, 1, 2, 3))\n",
    "        X_train = (X_train-mean)/(std+1e-7)\n",
    "        X_test = (X_test-mean)/(std+1e-7) \n",
    "        return X_train, X_test,mean,std\n",
    "    \n",
    "    \n",
    "## Normalize Training and Testset    \n",
    "x_train, x_test,mean_train,std_train = normalize(x_train, x_test) "
   ]
  },
  {
   "cell_type": "code",
   "execution_count": 11,
   "metadata": {},
   "outputs": [],
   "source": [
    "## OneHot Label 由(None, 1)-(None, 10)\n",
    "## ex. label=2,變成[0,0,1,0,0,0,0,0,0,0]\n",
    "one_hot=OneHotEncoder()\n",
    "y_train=one_hot.fit_transform(y_train).toarray()\n",
    "y_test=one_hot.transform(y_test).toarray()"
   ]
  },
  {
   "cell_type": "code",
   "execution_count": 12,
   "metadata": {},
   "outputs": [
    {
     "name": "stdout",
     "output_type": "stream",
     "text": [
      "WARNING:tensorflow:From C:\\Users\\User\\Anaconda3\\lib\\site-packages\\tensorflow\\python\\ops\\resource_variable_ops.py:435: colocate_with (from tensorflow.python.framework.ops) is deprecated and will be removed in a future version.\n",
      "Instructions for updating:\n",
      "Colocations handled automatically by placer.\n"
     ]
    },
    {
     "name": "stderr",
     "output_type": "stream",
     "text": [
      "C:\\Users\\User\\Anaconda3\\lib\\site-packages\\ipykernel_launcher.py:5: UserWarning: Update your `Conv2D` call to the Keras 2 API: `Conv2D(32, (3, 3), input_shape=(32, 32, 3..., activation=\"relu\")`\n",
      "  \"\"\"\n",
      "C:\\Users\\User\\Anaconda3\\lib\\site-packages\\ipykernel_launcher.py:12: UserWarning: Update your `Conv2D` call to the Keras 2 API: `Conv2D(32, (3, 3), activation=\"relu\")`\n",
      "  if sys.path[0] == '':\n"
     ]
    },
    {
     "name": "stdout",
     "output_type": "stream",
     "text": [
      "WARNING:tensorflow:From C:\\Users\\User\\Anaconda3\\lib\\site-packages\\tensorflow\\python\\ops\\math_ops.py:3066: to_int32 (from tensorflow.python.ops.math_ops) is deprecated and will be removed in a future version.\n",
      "Instructions for updating:\n",
      "Use tf.cast instead.\n"
     ]
    },
    {
     "name": "stderr",
     "output_type": "stream",
     "text": [
      "C:\\Users\\User\\Anaconda3\\lib\\site-packages\\ipykernel_launcher.py:20: UserWarning: Update your `Dense` call to the Keras 2 API: `Dense(activation=\"relu\", units=100)`\n",
      "C:\\Users\\User\\Anaconda3\\lib\\site-packages\\ipykernel_launcher.py:23: UserWarning: Update your `Dense` call to the Keras 2 API: `Dense(activation=\"softmax\", units=10)`\n"
     ]
    },
    {
     "name": "stdout",
     "output_type": "stream",
     "text": [
      "Epoch 1/100\n",
      "50000/50000 [==============================] - 139s 3ms/step - loss: 1.3694 - accuracy: 0.5161\n",
      "Epoch 2/100\n",
      "50000/50000 [==============================] - 138s 3ms/step - loss: 0.9897 - accuracy: 0.6539\n",
      "Epoch 3/100\n",
      "50000/50000 [==============================] - 142s 3ms/step - loss: 0.8331 - accuracy: 0.7073\n",
      "Epoch 4/100\n",
      "50000/50000 [==============================] - 139s 3ms/step - loss: 0.7227 - accuracy: 0.7468\n",
      "Epoch 5/100\n",
      "50000/50000 [==============================] - 139s 3ms/step - loss: 0.6305 - accuracy: 0.7789\n",
      "Epoch 6/100\n",
      "50000/50000 [==============================] - 139s 3ms/step - loss: 0.5550 - accuracy: 0.8052\n",
      "Epoch 7/100\n",
      "50000/50000 [==============================] - 139s 3ms/step - loss: 0.4885 - accuracy: 0.8291\n",
      "Epoch 8/100\n",
      "50000/50000 [==============================] - 138s 3ms/step - loss: 0.4277 - accuracy: 0.8496\n",
      "Epoch 9/100\n",
      "50000/50000 [==============================] - 139s 3ms/step - loss: 0.3682 - accuracy: 0.8703\n",
      "Epoch 10/100\n",
      "50000/50000 [==============================] - 139s 3ms/step - loss: 0.3213 - accuracy: 0.8859\n",
      "Epoch 11/100\n",
      "50000/50000 [==============================] - 139s 3ms/step - loss: 0.2747 - accuracy: 0.9040\n",
      "Epoch 12/100\n",
      "50000/50000 [==============================] - 143s 3ms/step - loss: 0.2388 - accuracy: 0.9161\n",
      "Epoch 13/100\n",
      "50000/50000 [==============================] - 139s 3ms/step - loss: 0.2054 - accuracy: 0.9273\n",
      "Epoch 14/100\n",
      "50000/50000 [==============================] - 140s 3ms/step - loss: 0.1773 - accuracy: 0.9384\n",
      "Epoch 15/100\n",
      "50000/50000 [==============================] - 140s 3ms/step - loss: 0.1597 - accuracy: 0.9433\n",
      "Epoch 16/100\n",
      "50000/50000 [==============================] - 139s 3ms/step - loss: 0.1419 - accuracy: 0.9503\n",
      "Epoch 17/100\n",
      "50000/50000 [==============================] - 142s 3ms/step - loss: 0.1270 - accuracy: 0.9560\n",
      "Epoch 18/100\n",
      "50000/50000 [==============================] - 139s 3ms/step - loss: 0.1228 - accuracy: 0.9558\n",
      "Epoch 19/100\n",
      "50000/50000 [==============================] - 139s 3ms/step - loss: 0.1037 - accuracy: 0.9639\n",
      "Epoch 20/100\n",
      "50000/50000 [==============================] - 137s 3ms/step - loss: 0.0989 - accuracy: 0.9658\n",
      "Epoch 21/100\n",
      "50000/50000 [==============================] - 137s 3ms/step - loss: 0.0956 - accuracy: 0.9661\n",
      "Epoch 22/100\n",
      "50000/50000 [==============================] - 135s 3ms/step - loss: 0.0962 - accuracy: 0.9659\n",
      "Epoch 23/100\n",
      "50000/50000 [==============================] - 135s 3ms/step - loss: 0.0827 - accuracy: 0.9705\n",
      "Epoch 24/100\n",
      "50000/50000 [==============================] - 135s 3ms/step - loss: 0.0756 - accuracy: 0.9732\n",
      "Epoch 25/100\n",
      "50000/50000 [==============================] - 135s 3ms/step - loss: 0.0813 - accuracy: 0.9707\n",
      "Epoch 26/100\n",
      "50000/50000 [==============================] - 135s 3ms/step - loss: 0.0774 - accuracy: 0.9728\n",
      "Epoch 27/100\n",
      "50000/50000 [==============================] - 135s 3ms/step - loss: 0.0702 - accuracy: 0.9752\n",
      "Epoch 28/100\n",
      "50000/50000 [==============================] - 134s 3ms/step - loss: 0.0763 - accuracy: 0.9738\n",
      "Epoch 29/100\n",
      "50000/50000 [==============================] - 137s 3ms/step - loss: 0.0690 - accuracy: 0.9755\n",
      "Epoch 30/100\n",
      "50000/50000 [==============================] - 135s 3ms/step - loss: 0.0644 - accuracy: 0.9771\n",
      "Epoch 31/100\n",
      "50000/50000 [==============================] - 135s 3ms/step - loss: 0.0623 - accuracy: 0.9777\n",
      "Epoch 32/100\n",
      "50000/50000 [==============================] - 136s 3ms/step - loss: 0.0582 - accuracy: 0.9801\n",
      "Epoch 33/100\n",
      "50000/50000 [==============================] - 135s 3ms/step - loss: 0.0649 - accuracy: 0.9773\n",
      "Epoch 34/100\n",
      "50000/50000 [==============================] - 134s 3ms/step - loss: 0.0644 - accuracy: 0.9773\n",
      "Epoch 35/100\n",
      "50000/50000 [==============================] - 135s 3ms/step - loss: 0.0582 - accuracy: 0.9799\n",
      "Epoch 36/100\n",
      "50000/50000 [==============================] - 135s 3ms/step - loss: 0.0551 - accuracy: 0.9803\n",
      "Epoch 37/100\n",
      "50000/50000 [==============================] - 141s 3ms/step - loss: 0.0588 - accuracy: 0.9798\n",
      "Epoch 38/100\n",
      "50000/50000 [==============================] - 141s 3ms/step - loss: 0.0561 - accuracy: 0.9802\n",
      "Epoch 39/100\n",
      "50000/50000 [==============================] - 139s 3ms/step - loss: 0.0477 - accuracy: 0.9832\n",
      "Epoch 40/100\n",
      "50000/50000 [==============================] - 135s 3ms/step - loss: 0.0537 - accuracy: 0.9813\n",
      "Epoch 41/100\n",
      "50000/50000 [==============================] - 135s 3ms/step - loss: 0.0551 - accuracy: 0.9807\n",
      "Epoch 42/100\n",
      "50000/50000 [==============================] - 135s 3ms/step - loss: 0.0516 - accuracy: 0.9816\n",
      "Epoch 43/100\n",
      "50000/50000 [==============================] - 135s 3ms/step - loss: 0.0464 - accuracy: 0.9843\n",
      "Epoch 44/100\n",
      "50000/50000 [==============================] - 135s 3ms/step - loss: 0.0539 - accuracy: 0.9816\n",
      "Epoch 45/100\n",
      "50000/50000 [==============================] - 135s 3ms/step - loss: 0.0471 - accuracy: 0.9838\n",
      "Epoch 46/100\n",
      "50000/50000 [==============================] - 135s 3ms/step - loss: 0.0381 - accuracy: 0.9870\n",
      "Epoch 47/100\n",
      "50000/50000 [==============================] - 135s 3ms/step - loss: 0.0386 - accuracy: 0.9867\n",
      "Epoch 48/100\n",
      "50000/50000 [==============================] - 134s 3ms/step - loss: 0.0549 - accuracy: 0.9820\n",
      "Epoch 49/100\n",
      "50000/50000 [==============================] - 134s 3ms/step - loss: 0.0472 - accuracy: 0.9840\n",
      "Epoch 50/100\n",
      "50000/50000 [==============================] - 134s 3ms/step - loss: 0.0381 - accuracy: 0.9865\n",
      "Epoch 51/100\n",
      "50000/50000 [==============================] - 135s 3ms/step - loss: 0.0424 - accuracy: 0.9854\n",
      "Epoch 52/100\n",
      "50000/50000 [==============================] - 135s 3ms/step - loss: 0.0483 - accuracy: 0.9836\n",
      "Epoch 53/100\n",
      "50000/50000 [==============================] - 134s 3ms/step - loss: 0.0412 - accuracy: 0.9859\n",
      "Epoch 54/100\n",
      "50000/50000 [==============================] - 134s 3ms/step - loss: 0.0371 - accuracy: 0.9872\n",
      "Epoch 55/100\n",
      "50000/50000 [==============================] - 136s 3ms/step - loss: 0.0428 - accuracy: 0.9856\n",
      "Epoch 56/100\n",
      "50000/50000 [==============================] - 136s 3ms/step - loss: 0.0404 - accuracy: 0.9864\n",
      "Epoch 57/100\n",
      "50000/50000 [==============================] - 135s 3ms/step - loss: 0.0425 - accuracy: 0.9856\n",
      "Epoch 58/100\n",
      "50000/50000 [==============================] - 135s 3ms/step - loss: 0.0431 - accuracy: 0.9850\n",
      "Epoch 59/100\n",
      "50000/50000 [==============================] - 135s 3ms/step - loss: 0.0376 - accuracy: 0.9867\n",
      "Epoch 60/100\n",
      "50000/50000 [==============================] - 135s 3ms/step - loss: 0.0314 - accuracy: 0.9893\n",
      "Epoch 61/100\n",
      "50000/50000 [==============================] - 135s 3ms/step - loss: 0.0356 - accuracy: 0.9873\n",
      "Epoch 62/100\n",
      "50000/50000 [==============================] - 135s 3ms/step - loss: 0.0349 - accuracy: 0.9874\n",
      "Epoch 63/100\n",
      "50000/50000 [==============================] - 135s 3ms/step - loss: 0.0425 - accuracy: 0.9855\n",
      "Epoch 64/100\n",
      "50000/50000 [==============================] - 134s 3ms/step - loss: 0.0322 - accuracy: 0.9892\n",
      "Epoch 65/100\n",
      "50000/50000 [==============================] - 135s 3ms/step - loss: 0.0286 - accuracy: 0.9899\n",
      "Epoch 66/100\n",
      "50000/50000 [==============================] - 135s 3ms/step - loss: 0.0385 - accuracy: 0.9868\n",
      "Epoch 67/100\n",
      "50000/50000 [==============================] - 135s 3ms/step - loss: 0.0310 - accuracy: 0.9896\n",
      "Epoch 68/100\n",
      "50000/50000 [==============================] - 135s 3ms/step - loss: 0.0341 - accuracy: 0.9889\n",
      "Epoch 69/100\n",
      "50000/50000 [==============================] - 134s 3ms/step - loss: 0.0308 - accuracy: 0.9890\n",
      "Epoch 70/100\n",
      "50000/50000 [==============================] - 135s 3ms/step - loss: 0.0359 - accuracy: 0.9881\n",
      "Epoch 71/100\n",
      "50000/50000 [==============================] - 134s 3ms/step - loss: 0.0369 - accuracy: 0.9877\n",
      "Epoch 72/100\n",
      "50000/50000 [==============================] - 137s 3ms/step - loss: 0.0325 - accuracy: 0.9885\n",
      "Epoch 73/100\n",
      "50000/50000 [==============================] - 135s 3ms/step - loss: 0.0277 - accuracy: 0.9902\n",
      "Epoch 74/100\n",
      "50000/50000 [==============================] - 134s 3ms/step - loss: 0.0365 - accuracy: 0.9879\n",
      "Epoch 75/100\n",
      "50000/50000 [==============================] - 134s 3ms/step - loss: 0.0312 - accuracy: 0.9888\n",
      "Epoch 76/100\n"
     ]
    },
    {
     "name": "stdout",
     "output_type": "stream",
     "text": [
      "50000/50000 [==============================] - 134s 3ms/step - loss: 0.0286 - accuracy: 0.9903\n",
      "Epoch 77/100\n",
      "50000/50000 [==============================] - 134s 3ms/step - loss: 0.0270 - accuracy: 0.9907\n",
      "Epoch 78/100\n",
      "50000/50000 [==============================] - 135s 3ms/step - loss: 0.0281 - accuracy: 0.9907\n",
      "Epoch 79/100\n",
      "50000/50000 [==============================] - 134s 3ms/step - loss: 0.0254 - accuracy: 0.9910\n",
      "Epoch 80/100\n",
      "50000/50000 [==============================] - 135s 3ms/step - loss: 0.0364 - accuracy: 0.9880\n",
      "Epoch 81/100\n",
      "50000/50000 [==============================] - 134s 3ms/step - loss: 0.0282 - accuracy: 0.9898\n",
      "Epoch 82/100\n",
      "50000/50000 [==============================] - 137s 3ms/step - loss: 0.0309 - accuracy: 0.9896\n",
      "Epoch 83/100\n",
      "50000/50000 [==============================] - 135s 3ms/step - loss: 0.0292 - accuracy: 0.9902\n",
      "Epoch 84/100\n",
      "50000/50000 [==============================] - 135s 3ms/step - loss: 0.0275 - accuracy: 0.9907\n",
      "Epoch 85/100\n",
      "50000/50000 [==============================] - 134s 3ms/step - loss: 0.0231 - accuracy: 0.9923\n",
      "Epoch 86/100\n",
      "50000/50000 [==============================] - 135s 3ms/step - loss: 0.0280 - accuracy: 0.9905\n",
      "Epoch 87/100\n",
      "50000/50000 [==============================] - 134s 3ms/step - loss: 0.0283 - accuracy: 0.9903\n",
      "Epoch 88/100\n",
      "50000/50000 [==============================] - 134s 3ms/step - loss: 0.0257 - accuracy: 0.9913\n",
      "Epoch 89/100\n",
      "50000/50000 [==============================] - 134s 3ms/step - loss: 0.0268 - accuracy: 0.9911\n",
      "Epoch 90/100\n",
      "50000/50000 [==============================] - 135s 3ms/step - loss: 0.0308 - accuracy: 0.9898\n",
      "Epoch 91/100\n",
      "50000/50000 [==============================] - 135s 3ms/step - loss: 0.0283 - accuracy: 0.9906\n",
      "Epoch 92/100\n",
      "50000/50000 [==============================] - 135s 3ms/step - loss: 0.0285 - accuracy: 0.9899\n",
      "Epoch 93/100\n",
      "50000/50000 [==============================] - 135s 3ms/step - loss: 0.0180 - accuracy: 0.9937\n",
      "Epoch 94/100\n",
      "50000/50000 [==============================] - 135s 3ms/step - loss: 0.0222 - accuracy: 0.9929\n",
      "Epoch 95/100\n",
      "50000/50000 [==============================] - 135s 3ms/step - loss: 0.0317 - accuracy: 0.9893\n",
      "Epoch 96/100\n",
      "50000/50000 [==============================] - 138s 3ms/step - loss: 0.0301 - accuracy: 0.9896\n",
      "Epoch 97/100\n",
      "50000/50000 [==============================] - 137s 3ms/step - loss: 0.0235 - accuracy: 0.9920\n",
      "Epoch 98/100\n",
      "50000/50000 [==============================] - 135s 3ms/step - loss: 0.0217 - accuracy: 0.9929\n",
      "Epoch 99/100\n",
      "50000/50000 [==============================] - 136s 3ms/step - loss: 0.0252 - accuracy: 0.9914\n",
      "Epoch 100/100\n",
      "50000/50000 [==============================] - 135s 3ms/step - loss: 0.0249 - accuracy: 0.9913\n"
     ]
    },
    {
     "data": {
      "text/plain": [
       "<keras.callbacks.callbacks.History at 0x24aa0d674a8>"
      ]
     },
     "execution_count": 12,
     "metadata": {},
     "output_type": "execute_result"
    }
   ],
   "source": [
    "\n",
    "classifier=Sequential()\n",
    "\n",
    "#卷積組合\n",
    "classifier.add(Convolution2D(32,3,3,input_shape=(32,32,3),activation='relu'))#32,3,3,input_shape=(32,32,3),activation='relu''\n",
    "classifier.add(BatchNormalization())\n",
    "\n",
    "'''自己決定MaxPooling2D放在哪裡'''\n",
    "#classifier.add(MaxPooling2D(pool_size=(2,2)))\n",
    "classifier.add(MaxPooling2D(pool_size=(2,2)))\n",
    "#卷積組合\n",
    "classifier.add(Convolution2D(32,3,3,activation='relu'))\n",
    "classifier.add(BatchNormalization())\n",
    "classifier.add(MaxPooling2D(pool_size=(2,2)))\n",
    "\n",
    "#flatten\n",
    "classifier.add(Flatten())\n",
    "\n",
    "#FC\n",
    "classifier.add(Dense(output_dim=100,activation='relu')) #output_dim=100,activation=relu\n",
    "\n",
    "#輸出\n",
    "classifier.add(Dense(output_dim=10,activation='softmax'))\n",
    "\n",
    "#超過兩個就要選categorical_crossentrophy\n",
    "classifier.compile(optimizer = 'adam', loss = 'categorical_crossentropy', metrics = ['accuracy'])\n",
    "classifier.fit(x_train,y_train,batch_size=100,epochs=100)"
   ]
  },
  {
   "cell_type": "markdown",
   "metadata": {},
   "source": [
    "## 預測新圖片，輸入影像前處理要與訓練時相同\n",
    "#### ((X-mean)/(std+1e-7) ):這裡的mean跟std是訓練集的\n",
    "## 維度如下方示範"
   ]
  },
  {
   "cell_type": "code",
   "execution_count": 13,
   "metadata": {},
   "outputs": [
    {
     "data": {
      "text/plain": [
       "array([[1.4186470e-13, 8.6557607e-20, 2.2042205e-04, 5.4643816e-01,\n",
       "        4.5334032e-01, 6.1906834e-15, 3.7714255e-08, 6.1563003e-15,\n",
       "        1.0488234e-06, 7.9559497e-28]], dtype=float32)"
      ]
     },
     "execution_count": 13,
     "metadata": {},
     "output_type": "execute_result"
    }
   ],
   "source": [
    "input_example=(np.zeros(shape=(1,32,32,3))-mean_train)/(std_train+1e-7) \n",
    "classifier.predict(input_example)"
   ]
  },
  {
   "cell_type": "code",
   "execution_count": null,
   "metadata": {},
   "outputs": [],
   "source": []
  }
 ],
 "metadata": {
  "kernelspec": {
   "display_name": "Python 3",
   "language": "python",
   "name": "python3"
  },
  "language_info": {
   "codemirror_mode": {
    "name": "ipython",
    "version": 3
   },
   "file_extension": ".py",
   "mimetype": "text/x-python",
   "name": "python",
   "nbconvert_exporter": "python",
   "pygments_lexer": "ipython3",
   "version": "3.6.5"
  }
 },
 "nbformat": 4,
 "nbformat_minor": 2
}
